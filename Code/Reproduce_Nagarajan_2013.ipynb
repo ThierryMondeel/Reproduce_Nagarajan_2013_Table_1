{
 "cells": [
  {
   "cell_type": "markdown",
   "metadata": {},
   "source": [
    "# Reproduction of (Nagarajan,2013)\n",
    "This is an attempt at visualizing all flux distributions discussed in (Nagarjan,2013) Table 1 through utilisation of a novel Escher map drawn for this purpose.\n",
    "In the process we will additionally reproduce all growth and product yields discussed therein.\n",
    "\n",
    "Thierry D.G.A. Mondeel -- University of Amsterdam"
   ]
  },
  {
   "cell_type": "code",
   "execution_count": 1,
   "metadata": {},
   "outputs": [],
   "source": [
    "import cobra\n",
    "import re \n",
    "import pandas as pd\n",
    "pd.set_option('display.max_colwidth', -1)\n",
    "\n",
    "import escher\n",
    "\n",
    "# import local functions\n",
    "from show_map import show_map\n",
    "\n",
    "escher_file = '../Data/Escher/escher_map_c_ljungdahlii.json'\n",
    "M = cobra.io.read_sbml_model(\"../Data/Models/c_ljungdahlii_nagarajan_2013.xml\")"
   ]
  },
  {
   "cell_type": "markdown",
   "metadata": {},
   "source": [
    "## Define function that calculates the flux pattern, stores the results and visualizes it"
   ]
  },
  {
   "cell_type": "code",
   "execution_count": 2,
   "metadata": {},
   "outputs": [],
   "source": [
    "def calc_store_and_viz_flux_pattern(model, results, name, exch_id, escher_file):\n",
    "    \n",
    "    sol = model.optimize()\n",
    "    \n",
    "    if type(exch_id) is list:\n",
    "        results[name] = [-1*sol.fluxes[exch_id].values.round(3),round(sol.objective_value,3),round(sol.fluxes['EX_ac_e'],3)]\n",
    "    else:\n",
    "        results[name] = [round(-1*sol.fluxes[exch_id],3),round(sol.objective_value,3),round(sol.fluxes['EX_ac_e'],3)]\n",
    "    display(results[name])\n",
    "    \n",
    "    fluxviz = show_map(sol, map_loc=escher_file)\n",
    "    fluxviz.save_html('../Figures/growth_'+name+'.html',overwrite=True)\n",
    "    \n",
    "    return results, fluxviz"
   ]
  },
  {
   "cell_type": "markdown",
   "metadata": {},
   "source": [
    "## Set up the dictionary that ultimately reproduces (and extends) Table 1 from the paper"
   ]
  },
  {
   "cell_type": "code",
   "execution_count": 3,
   "metadata": {},
   "outputs": [],
   "source": [
    "results = {}"
   ]
  },
  {
   "cell_type": "markdown",
   "metadata": {},
   "source": [
    "## Growth on fructose (1.88 mmol/gDW/h)"
   ]
  },
  {
   "cell_type": "code",
   "execution_count": 4,
   "metadata": {},
   "outputs": [
    {
     "data": {
      "text/plain": [
       "[1.88, 0.081, 3.572]"
      ]
     },
     "metadata": {},
     "output_type": "display_data"
    }
   ],
   "source": [
    "model = M.copy()\n",
    "model.reactions.EX_fru_e.lower_bound = -1.88\n",
    "\n",
    "results, fluxviz = calc_store_and_viz_flux_pattern(model, results, 'Fructose_1.88', 'EX_fru_e', escher_file)"
   ]
  },
  {
   "cell_type": "markdown",
   "metadata": {},
   "source": [
    "## Growth on fructose (5 mmol/gDW/h)"
   ]
  },
  {
   "cell_type": "code",
   "execution_count": 5,
   "metadata": {},
   "outputs": [
    {
     "data": {
      "text/plain": [
       "[5.0, 0.224, 9.296]"
      ]
     },
     "metadata": {},
     "output_type": "display_data"
    }
   ],
   "source": [
    "model = M.copy()\n",
    "model.reactions.EX_fru_e.lower_bound = -5\n",
    "\n",
    "results, fluxviz = calc_store_and_viz_flux_pattern(model, results, 'Fructose_5', 'EX_fru_e', escher_file)"
   ]
  },
  {
   "cell_type": "markdown",
   "metadata": {},
   "source": [
    "## Growth on glucose (5 mmol/gDW/h)"
   ]
  },
  {
   "cell_type": "code",
   "execution_count": 6,
   "metadata": {},
   "outputs": [
    {
     "data": {
      "text/plain": [
       "[5.0, 0.212, 9.613]"
      ]
     },
     "metadata": {},
     "output_type": "display_data"
    }
   ],
   "source": [
    "model = M.copy()\n",
    "model.reactions.EX_fru_e.lower_bound = 0\n",
    "model.reactions.EX_glc__D_e.lower_bound = -5\n",
    "\n",
    "results, fluxviz = calc_store_and_viz_flux_pattern(model, results, 'Glucose', 'EX_glc__D_e', escher_file)"
   ]
  },
  {
   "cell_type": "markdown",
   "metadata": {},
   "source": [
    "## Growth on gluconate (5 mmol/gDW/h)"
   ]
  },
  {
   "cell_type": "code",
   "execution_count": 7,
   "metadata": {},
   "outputs": [
    {
     "data": {
      "text/plain": [
       "[5.0, 0.191, 8.909]"
      ]
     },
     "metadata": {},
     "output_type": "display_data"
    }
   ],
   "source": [
    "model = M.copy()\n",
    "model.reactions.EX_fru_e.lower_bound = 0\n",
    "model.reactions.EX_glcn_e.lower_bound = -5\n",
    "\n",
    "results, fluxviz = calc_store_and_viz_flux_pattern(model, results, 'Gluconate', 'EX_glcn_e', escher_file)"
   ]
  },
  {
   "cell_type": "markdown",
   "metadata": {},
   "source": [
    "## Growth on arabinose (5 mmol/gDW/h)"
   ]
  },
  {
   "cell_type": "code",
   "execution_count": 8,
   "metadata": {},
   "outputs": [
    {
     "data": {
      "text/plain": [
       "[5.0, 0.174, 8.089]"
      ]
     },
     "metadata": {},
     "output_type": "display_data"
    }
   ],
   "source": [
    "model = M.copy()\n",
    "model.reactions.EX_fru_e.lower_bound = 0\n",
    "model.reactions.EX_arab__L_e.lower_bound = -5\n",
    "\n",
    "results, fluxviz = calc_store_and_viz_flux_pattern(model, results, 'Arabinose', 'EX_arab__L_e', escher_file)"
   ]
  },
  {
   "cell_type": "markdown",
   "metadata": {},
   "source": [
    "## Growth on ribose (5 mmol/gDW/h)"
   ]
  },
  {
   "cell_type": "code",
   "execution_count": 9,
   "metadata": {},
   "outputs": [
    {
     "data": {
      "text/plain": [
       "[5.0, 0.133, 9.122]"
      ]
     },
     "metadata": {},
     "output_type": "display_data"
    }
   ],
   "source": [
    "model = M.copy()\n",
    "model.reactions.EX_fru_e.lower_bound = 0\n",
    "model.reactions.EX_rib__D_e.lower_bound = -5\n",
    "\n",
    "results, fluxviz = calc_store_and_viz_flux_pattern(model, results, 'Ribose', 'EX_rib__D_e', escher_file)"
   ]
  },
  {
   "cell_type": "markdown",
   "metadata": {},
   "source": [
    "## Growth on xylose (5 mmol/gDW/h)"
   ]
  },
  {
   "cell_type": "code",
   "execution_count": 10,
   "metadata": {
    "scrolled": false
   },
   "outputs": [
    {
     "data": {
      "text/plain": [
       "[5.0, 0.174, 8.089]"
      ]
     },
     "metadata": {},
     "output_type": "display_data"
    }
   ],
   "source": [
    "model = M.copy()\n",
    "model.reactions.EX_fru_e.lower_bound = 0\n",
    "model.reactions.EX_xyl__D_e.lower_bound = -5\n",
    "\n",
    "results, fluxviz = calc_store_and_viz_flux_pattern(model, results, 'Xylose', 'EX_xyl__D_e', escher_file)"
   ]
  },
  {
   "cell_type": "markdown",
   "metadata": {},
   "source": [
    "## Growth on formate (5 mmol/gDW/h)"
   ]
  },
  {
   "cell_type": "code",
   "execution_count": 11,
   "metadata": {
    "scrolled": false
   },
   "outputs": [
    {
     "data": {
      "text/plain": [
       "[5.0, 0.011, 0.959]"
      ]
     },
     "metadata": {},
     "output_type": "display_data"
    }
   ],
   "source": [
    "model = M.copy()\n",
    "model.reactions.EX_fru_e.lower_bound = 0\n",
    "model.reactions.EX_for_e.lower_bound = -5\n",
    "\n",
    "results, fluxviz = calc_store_and_viz_flux_pattern(model, results, 'Formate', 'EX_for_e', escher_file)"
   ]
  },
  {
   "cell_type": "markdown",
   "metadata": {},
   "source": [
    "## Growth on serine (5 mmol/gDW/h)"
   ]
  },
  {
   "cell_type": "code",
   "execution_count": 12,
   "metadata": {
    "scrolled": false
   },
   "outputs": [
    {
     "data": {
      "text/plain": [
       "[5.0, 0.074, 4.362]"
      ]
     },
     "metadata": {},
     "output_type": "display_data"
    }
   ],
   "source": [
    "model = M.copy()\n",
    "model.reactions.EX_fru_e.lower_bound = 0\n",
    "model.reactions.EX_ser__L_e.lower_bound = -5\n",
    "\n",
    "results, fluxviz = calc_store_and_viz_flux_pattern(model, results, 'Serine', 'EX_ser__L_e', escher_file)"
   ]
  },
  {
   "cell_type": "markdown",
   "metadata": {},
   "source": [
    "## Growth on citrulline (5 mmol/gDW/h)"
   ]
  },
  {
   "cell_type": "code",
   "execution_count": 13,
   "metadata": {
    "scrolled": false
   },
   "outputs": [
    {
     "data": {
      "text/plain": [
       "[5.0, 0.034, 4.138]"
      ]
     },
     "metadata": {},
     "output_type": "display_data"
    }
   ],
   "source": [
    "model = M.copy()\n",
    "model.reactions.EX_fru_e.lower_bound = 0\n",
    "model.reactions.EX_citr__L_e.lower_bound = -5\n",
    "\n",
    "results, fluxviz = calc_store_and_viz_flux_pattern(model, results, 'Citrulline', 'EX_citr__L_e', escher_file)"
   ]
  },
  {
   "cell_type": "markdown",
   "metadata": {},
   "source": [
    "### Growth on pyruvate (5 mmol/gDW/h)"
   ]
  },
  {
   "cell_type": "code",
   "execution_count": 14,
   "metadata": {
    "scrolled": false
   },
   "outputs": [
    {
     "data": {
      "text/plain": [
       "[5.0, 0.063, 4.649]"
      ]
     },
     "metadata": {},
     "output_type": "display_data"
    }
   ],
   "source": [
    "model = M.copy()\n",
    "model.reactions.EX_fru_e.lower_bound = 0\n",
    "model.reactions.EX_pyr_e.lower_bound = -5\n",
    "\n",
    "results, fluxviz = calc_store_and_viz_flux_pattern(model, results, 'Pyruvate', 'EX_pyr_e', escher_file)"
   ]
  },
  {
   "cell_type": "markdown",
   "metadata": {},
   "source": [
    "## Growth on arginine (5 mmol/gDW/h)"
   ]
  },
  {
   "cell_type": "code",
   "execution_count": 15,
   "metadata": {
    "scrolled": false
   },
   "outputs": [
    {
     "data": {
      "text/plain": [
       "[5.0, 0.035, 4.134]"
      ]
     },
     "metadata": {},
     "output_type": "display_data"
    }
   ],
   "source": [
    "model = M.copy()\n",
    "model.reactions.EX_fru_e.lower_bound = 0\n",
    "model.reactions.EX_arg__L_e.lower_bound = -5\n",
    "\n",
    "results, fluxviz = calc_store_and_viz_flux_pattern(model, results, 'Arginine', 'EX_arg__L_e', escher_file)"
   ]
  },
  {
   "cell_type": "markdown",
   "metadata": {},
   "source": [
    "## Growth on aspartate (5 mmol/gDW/h)"
   ]
  },
  {
   "cell_type": "code",
   "execution_count": 16,
   "metadata": {
    "scrolled": false
   },
   "outputs": [
    {
     "data": {
      "text/plain": [
       "[5.0, 0.097, 5.045]"
      ]
     },
     "metadata": {},
     "output_type": "display_data"
    }
   ],
   "source": [
    "model = M.copy()\n",
    "model.reactions.EX_fru_e.lower_bound = 0\n",
    "model.reactions.EX_asp__L_e.lower_bound = -5\n",
    "\n",
    "results, fluxviz = calc_store_and_viz_flux_pattern(model, results, 'Aspartate', 'EX_asp__L_e', escher_file)"
   ]
  },
  {
   "cell_type": "markdown",
   "metadata": {},
   "source": [
    "## Growth on glutamate (5 mmol/gDW/h)"
   ]
  },
  {
   "cell_type": "code",
   "execution_count": 17,
   "metadata": {
    "scrolled": true
   },
   "outputs": [
    {
     "data": {
      "text/plain": [
       "[5.0, 0.108, 8.513]"
      ]
     },
     "metadata": {},
     "output_type": "display_data"
    }
   ],
   "source": [
    "model = M.copy()\n",
    "model.reactions.EX_fru_e.lower_bound = 0\n",
    "model.reactions.EX_glu__L_e.lower_bound = -5\n",
    "\n",
    "results, fluxviz = calc_store_and_viz_flux_pattern(model, results, 'Glutamate', 'EX_glu__L_e', escher_file)"
   ]
  },
  {
   "cell_type": "markdown",
   "metadata": {},
   "source": [
    "## Growth on CO2/H2 (10/20 mmol/gDW/h)"
   ]
  },
  {
   "cell_type": "code",
   "execution_count": 18,
   "metadata": {
    "scrolled": false
   },
   "outputs": [
    {
     "data": {
      "text/plain": [
       "[array([ 9.751, 20.   ]), 0.034, 4.136]"
      ]
     },
     "metadata": {},
     "output_type": "display_data"
    }
   ],
   "source": [
    "model = M.copy()\n",
    "model.reactions.EX_fru_e.lower_bound = 0\n",
    "model.reactions.EX_co2_e.lower_bound = -10\n",
    "model.reactions.EX_h2_e.lower_bound = -20\n",
    "\n",
    "results, fluxviz = calc_store_and_viz_flux_pattern(model, results, 'CO2_H2', ['EX_co2_e','EX_h2_e'], escher_file)"
   ]
  },
  {
   "cell_type": "markdown",
   "metadata": {},
   "source": [
    "## Growth on CO (20 mmol/gDW/h)"
   ]
  },
  {
   "cell_type": "code",
   "execution_count": 19,
   "metadata": {
    "scrolled": true
   },
   "outputs": [
    {
     "data": {
      "text/plain": [
       "[20.0, 0.06, 3.481]"
      ]
     },
     "metadata": {},
     "output_type": "display_data"
    }
   ],
   "source": [
    "model = M.copy()\n",
    "model.reactions.EX_fru_e.lower_bound = 0\n",
    "model.reactions.EX_co_e.lower_bound = -20\n",
    "\n",
    "results, fluxviz = calc_store_and_viz_flux_pattern(model, results, 'CO', 'EX_co_e', escher_file)"
   ]
  },
  {
   "cell_type": "markdown",
   "metadata": {},
   "source": [
    "# Generate a table similar to Table 1 from the publication"
   ]
  },
  {
   "cell_type": "code",
   "execution_count": 20,
   "metadata": {},
   "outputs": [
    {
     "data": {
      "text/html": [
       "<div>\n",
       "<style scoped>\n",
       "    .dataframe tbody tr th:only-of-type {\n",
       "        vertical-align: middle;\n",
       "    }\n",
       "\n",
       "    .dataframe tbody tr th {\n",
       "        vertical-align: top;\n",
       "    }\n",
       "\n",
       "    .dataframe thead th {\n",
       "        text-align: right;\n",
       "    }\n",
       "</style>\n",
       "<table border=\"1\" class=\"dataframe\">\n",
       "  <thead>\n",
       "    <tr style=\"text-align: right;\">\n",
       "      <th></th>\n",
       "      <th>Substrate uptake rate</th>\n",
       "      <th>Growth rate</th>\n",
       "      <th>Acetate production rate</th>\n",
       "    </tr>\n",
       "  </thead>\n",
       "  <tbody>\n",
       "    <tr>\n",
       "      <th>Fructose_1.88</th>\n",
       "      <td>1.88</td>\n",
       "      <td>0.081</td>\n",
       "      <td>3.572</td>\n",
       "    </tr>\n",
       "    <tr>\n",
       "      <th>Fructose_5</th>\n",
       "      <td>5</td>\n",
       "      <td>0.224</td>\n",
       "      <td>9.296</td>\n",
       "    </tr>\n",
       "    <tr>\n",
       "      <th>Glucose</th>\n",
       "      <td>5</td>\n",
       "      <td>0.212</td>\n",
       "      <td>9.613</td>\n",
       "    </tr>\n",
       "    <tr>\n",
       "      <th>Gluconate</th>\n",
       "      <td>5</td>\n",
       "      <td>0.191</td>\n",
       "      <td>8.909</td>\n",
       "    </tr>\n",
       "    <tr>\n",
       "      <th>Arabinose</th>\n",
       "      <td>5</td>\n",
       "      <td>0.174</td>\n",
       "      <td>8.089</td>\n",
       "    </tr>\n",
       "    <tr>\n",
       "      <th>Ribose</th>\n",
       "      <td>5</td>\n",
       "      <td>0.133</td>\n",
       "      <td>9.122</td>\n",
       "    </tr>\n",
       "    <tr>\n",
       "      <th>Xylose</th>\n",
       "      <td>5</td>\n",
       "      <td>0.174</td>\n",
       "      <td>8.089</td>\n",
       "    </tr>\n",
       "    <tr>\n",
       "      <th>Formate</th>\n",
       "      <td>5</td>\n",
       "      <td>0.011</td>\n",
       "      <td>0.959</td>\n",
       "    </tr>\n",
       "    <tr>\n",
       "      <th>Serine</th>\n",
       "      <td>5</td>\n",
       "      <td>0.074</td>\n",
       "      <td>4.362</td>\n",
       "    </tr>\n",
       "    <tr>\n",
       "      <th>Citrulline</th>\n",
       "      <td>5</td>\n",
       "      <td>0.034</td>\n",
       "      <td>4.138</td>\n",
       "    </tr>\n",
       "    <tr>\n",
       "      <th>Pyruvate</th>\n",
       "      <td>5</td>\n",
       "      <td>0.063</td>\n",
       "      <td>4.649</td>\n",
       "    </tr>\n",
       "    <tr>\n",
       "      <th>Arginine</th>\n",
       "      <td>5</td>\n",
       "      <td>0.035</td>\n",
       "      <td>4.134</td>\n",
       "    </tr>\n",
       "    <tr>\n",
       "      <th>Aspartate</th>\n",
       "      <td>5</td>\n",
       "      <td>0.097</td>\n",
       "      <td>5.045</td>\n",
       "    </tr>\n",
       "    <tr>\n",
       "      <th>Glutamate</th>\n",
       "      <td>5</td>\n",
       "      <td>0.108</td>\n",
       "      <td>8.513</td>\n",
       "    </tr>\n",
       "    <tr>\n",
       "      <th>CO2_H2</th>\n",
       "      <td>[9.751, 20.0]</td>\n",
       "      <td>0.034</td>\n",
       "      <td>4.136</td>\n",
       "    </tr>\n",
       "    <tr>\n",
       "      <th>CO</th>\n",
       "      <td>20</td>\n",
       "      <td>0.060</td>\n",
       "      <td>3.481</td>\n",
       "    </tr>\n",
       "  </tbody>\n",
       "</table>\n",
       "</div>"
      ],
      "text/plain": [
       "              Substrate uptake rate  Growth rate  Acetate production rate\n",
       "Fructose_1.88  1.88                  0.081        3.572                  \n",
       "Fructose_5     5                     0.224        9.296                  \n",
       "Glucose        5                     0.212        9.613                  \n",
       "Gluconate      5                     0.191        8.909                  \n",
       "Arabinose      5                     0.174        8.089                  \n",
       "Ribose         5                     0.133        9.122                  \n",
       "Xylose         5                     0.174        8.089                  \n",
       "Formate        5                     0.011        0.959                  \n",
       "Serine         5                     0.074        4.362                  \n",
       "Citrulline     5                     0.034        4.138                  \n",
       "Pyruvate       5                     0.063        4.649                  \n",
       "Arginine       5                     0.035        4.134                  \n",
       "Aspartate      5                     0.097        5.045                  \n",
       "Glutamate      5                     0.108        8.513                  \n",
       "CO2_H2         [9.751, 20.0]         0.034        4.136                  \n",
       "CO             20                    0.060        3.481                  "
      ]
     },
     "execution_count": 20,
     "metadata": {},
     "output_type": "execute_result"
    }
   ],
   "source": [
    "df = pd.DataFrame(results.values(),index=results.keys(),columns=['Substrate uptake rate','Growth rate','Acetate production rate'])\n",
    "df"
   ]
  },
  {
   "cell_type": "code",
   "execution_count": null,
   "metadata": {},
   "outputs": [],
   "source": []
  },
  {
   "cell_type": "code",
   "execution_count": null,
   "metadata": {},
   "outputs": [],
   "source": []
  }
 ],
 "metadata": {
  "kernel_info": {
   "name": "python3"
  },
  "kernelspec": {
   "display_name": "Python 3",
   "language": "python",
   "name": "python3"
  },
  "language_info": {
   "codemirror_mode": {
    "name": "ipython",
    "version": 3
   },
   "file_extension": ".py",
   "mimetype": "text/x-python",
   "name": "python",
   "nbconvert_exporter": "python",
   "pygments_lexer": "ipython3",
   "version": "3.6.1"
  },
  "nteract": {
   "version": "0.12.3"
  },
  "toc": {
   "nav_menu": {},
   "number_sections": true,
   "sideBar": true,
   "skip_h1_title": false,
   "toc_cell": false,
   "toc_position": {},
   "toc_section_display": "block",
   "toc_window_display": false
  }
 },
 "nbformat": 4,
 "nbformat_minor": 2
}
